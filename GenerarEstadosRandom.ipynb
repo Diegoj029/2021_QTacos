{
 "cells": [
  {
   "cell_type": "code",
   "execution_count": 102,
   "metadata": {},
   "outputs": [],
   "source": [
    "import numpy as np\n",
    "import random\n",
    "from tools import *\n",
    "from qiskit import QuantumCircuit, Aer, execute\n",
    "from qiskit.visualization import plot_histogram, plot_bloch_multivector\n",
    "from qiskit.extensions import Initialize\n",
    "from qiskit_textbook.tools import array_to_latex"
   ]
  },
  {
   "cell_type": "code",
   "execution_count": 168,
   "metadata": {},
   "outputs": [
    {
     "data": {
      "image/png": "[encoded data removed]",
      "text/plain": [
       "<Figure size 447.797x264.88 with 1 Axes>"
      ]
     },
     "execution_count": 168,
     "metadata": {},
     "output_type": "execute_result"
    }
   ],
   "source": [
    "qc = QuantumCircuit(3,3)\n",
    "for i in range(0,int(random.randint(1,5))):\n",
    "    g = random.choice((\"hadamard\",\"x\",\"y\",\"z\",\"cnot\"))\n",
    "    if g == \"cnot\":\n",
    "        q = random.sample(tuple(range(0,3)),2)\n",
    "        add_gate(qc,gate=g,channel=q[0],channel_op=q[1])\n",
    "    else:\n",
    "        q = random.choice(tuple(range(0,3)))\n",
    "        add_gate(qc,gate=g,channel=q)\n",
    " \n",
    "qc.barrier()\n",
    "qc.measure([0,1,2],[0,1,2])\n",
    "qc.draw('mpl')\n",
    "    \n",
    "    "
   ]
  },
  {
   "cell_type": "code",
   "execution_count": 179,
   "metadata": {},
   "outputs": [
    {
     "data": {
      "text/plain": [
       "{'|000⟩': '50.45%', '|010⟩': '49.55%'}"
      ]
     },
     "execution_count": 179,
     "metadata": {},
     "output_type": "execute_result"
    }
   ],
   "source": [
    "simulator = Aer.get_backend('qasm_simulator')\n",
    "measuring(qc, backend=simulator)"
   ]
  },
  {
   "cell_type": "code",
   "execution_count": 153,
   "metadata": {},
   "outputs": [
    {
     "name": "stdout",
     "output_type": "stream",
     "text": [
      "[0, 1, 2, 3, 4]\n"
     ]
    }
   ],
   "source": [
    "print(list(range(0,5)))"
   ]
  }
 ],
 "metadata": {
  "kernelspec": {
   "display_name": "Python 3",
   "language": "python",
   "name": "python3"
  },
  "language_info": {
   "codemirror_mode": {
    "name": "ipython",
    "version": 3
   },
   "file_extension": ".py",
   "mimetype": "text/x-python",
   "name": "python",
   "nbconvert_exporter": "python",
   "pygments_lexer": "ipython3",
   "version": "3.7.6"
  }
 },
 "nbformat": 4,
 "nbformat_minor": 4
}
