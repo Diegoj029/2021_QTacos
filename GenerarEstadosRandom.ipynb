{
 "cells": [
  {
   "cell_type": "code",
   "execution_count": 2,
   "metadata": {},
   "outputs": [],
   "source": [
    "import numpy as np\n",
    "import random\n",
    "from tools import *\n",
    "from qiskit import QuantumCircuit, Aer, execute"
   ]
  },
  {
   "cell_type": "code",
   "execution_count": 28,
   "metadata": {},
   "outputs": [
    {
     "data": {
      "image/png": "[encoded data removed]",
      "text/plain": [
       "<Figure size 507.997x264.88 with 1 Axes>"
      ]
     },
     "execution_count": 28,
     "metadata": {},
     "output_type": "execute_result"
    }
   ],
   "source": [
    "qc = QuantumCircuit(3,3)\n",
    "for i in range(0,int(random.randint(1,5))):\n",
    "    g = random.choice((\"hadamard\",\"x\",\"y\",\"z\",\"cnot\"))\n",
    "    if g == \"cnot\":\n",
    "        q = random.sample(tuple(range(0,3)),2)\n",
    "        add_gate(qc,gate=g,channel=q[0],channel_op=q[1])\n",
    "    else:\n",
    "        q = random.choice(tuple(range(0,3)))\n",
    "        add_gate(qc,gate=g,channel=q)\n",
    " \n",
    "qc.barrier()\n",
    "qc.measure([0,1,2],[0,1,2])\n",
    "qc.draw('mpl')\n",
    "    \n",
    "    "
   ]
  },
  {
   "cell_type": "code",
   "execution_count": 30,
   "metadata": {},
   "outputs": [],
   "source": [
    "simulator = Aer.get_backend('qasm_simulator')\n",
    "x = measuring(qc, backend=simulator)\n",
    "y = measuring(qc, backend=simulator)"
   ]
  },
  {
   "cell_type": "code",
   "execution_count": 31,
   "metadata": {},
   "outputs": [
    {
     "name": "stdout",
     "output_type": "stream",
     "text": [
      "{'000': 25.5, '001': 24.85, '100': 24.75, '101': 24.9} {'000': 25.8, '001': 25.0, '100': 23.9, '101': 25.3}\n"
     ]
    }
   ],
   "source": [
    "print(x,y)"
   ]
  },
  {
   "cell_type": "code",
   "execution_count": 17,
   "metadata": {},
   "outputs": [
    {
     "data": {
      "text/plain": [
       "(True, 0.00014441092953609846)"
      ]
     },
     "execution_count": 17,
     "metadata": {},
     "output_type": "execute_result"
    }
   ],
   "source": [
    "similarity(x,y)"
   ]
  },
  {
   "cell_type": "code",
   "execution_count": 37,
   "metadata": {},
   "outputs": [],
   "source": [
    "a = {'000': 47.852, '001': 1.855, '010': 1.074, '011': 48.828, '100': 0.098, '111': 0.293}\n",
    "b = {'000': 50.293, '001': 1.172, '010': 4.883, '011': 42.773, '100': 0.488, '111': 0.391}\n",
    "c = {'000': 52.832, '001': 1.465, '010': 0.781, '011': 44.283, '100': 0.391, '111': 0.195}"
   ]
  },
  {
   "cell_type": "code",
   "execution_count": 40,
   "metadata": {},
   "outputs": [
    {
     "data": {
      "text/plain": [
       "(True, 0.001989546117588503)"
      ]
     },
     "execution_count": 40,
     "metadata": {},
     "output_type": "execute_result"
    }
   ],
   "source": [
    "similarity(b,c)"
   ]
  }
 ],
 "metadata": {
  "kernelspec": {
   "display_name": "Python 3",
   "language": "python",
   "name": "python3"
  },
  "language_info": {
   "codemirror_mode": {
    "name": "ipython",
    "version": 3
   },
   "file_extension": ".py",
   "mimetype": "text/x-python",
   "name": "python",
   "nbconvert_exporter": "python",
   "pygments_lexer": "ipython3",
   "version": "3.7.6"
  }
 },
 "nbformat": 4,
 "nbformat_minor": 4
}
