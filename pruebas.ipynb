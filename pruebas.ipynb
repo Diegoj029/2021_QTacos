{
 "cells": [
  {
   "cell_type": "code",
   "execution_count": 13,
   "metadata": {},
   "outputs": [],
   "source": [
    "import numpy as np\n",
    "from qiskit import QuantumCircuit, Aer\n",
    "\n",
    "from tools import *"
   ]
  },
  {
   "cell_type": "code",
   "execution_count": 14,
   "metadata": {},
   "outputs": [],
   "source": [
    "simulator = Aer.get_backend('qasm_simulator')"
   ]
  },
  {
   "cell_type": "code",
<<<<<<< HEAD
   "execution_count": 17,
=======
   "execution_count": 15,
>>>>>>> ffbfa911a040cc6caf74733a0da476a1893981f6
   "metadata": {},
   "outputs": [],
   "source": [
    "circuito = QuantumCircuit(3, 3)"
   ]
  },
  {
   "cell_type": "code",
<<<<<<< HEAD
   "execution_count": 18,
=======
   "execution_count": 24,
>>>>>>> ffbfa911a040cc6caf74733a0da476a1893981f6
   "metadata": {},
   "outputs": [
    {
     "data": {
      "text/plain": [
<<<<<<< HEAD
       "<qiskit.circuit.quantumcircuit.QuantumCircuit at 0x7f443a121bd0>"
      ]
     },
     "execution_count": 18,
=======
       "<qiskit.circuit.quantumcircuit.QuantumCircuit at 0x7f040bda1f10>"
      ]
     },
     "execution_count": 24,
>>>>>>> ffbfa911a040cc6caf74733a0da476a1893981f6
     "metadata": {},
     "output_type": "execute_result"
    }
   ],
   "source": [
    "add_gate(circuito, gate=\"hadamard\", channel=0)\n",
    "add_gate(circuito, gate=\"cnot\", channel=1, channel_op=2)\n",
    "add_gate(circuito, gate=\"z\", channel=2)\n",
    "add_gate(circuito, gate=\"hadamard\", channel=2)"
   ]
  },
  {
   "cell_type": "code",
<<<<<<< HEAD
   "execution_count": 19,
=======
   "execution_count": 25,
>>>>>>> ffbfa911a040cc6caf74733a0da476a1893981f6
   "metadata": {},
   "outputs": [
    {
     "data": {
      "text/plain": [
<<<<<<< HEAD
       "<qiskit.circuit.instructionset.InstructionSet at 0x7f443a13a950>"
      ]
     },
     "execution_count": 19,
=======
       "<qiskit.circuit.instructionset.InstructionSet at 0x7f040b8268d0>"
      ]
     },
     "execution_count": 25,
>>>>>>> ffbfa911a040cc6caf74733a0da476a1893981f6
     "metadata": {},
     "output_type": "execute_result"
    }
   ],
   "source": [
    "circuito.measure([0,1,2], [0,1,2])"
   ]
  },
  {
   "cell_type": "code",
<<<<<<< HEAD
   "execution_count": 20,
=======
   "execution_count": 26,
>>>>>>> ffbfa911a040cc6caf74733a0da476a1893981f6
   "metadata": {},
   "outputs": [
    {
     "data": {
<<<<<<< HEAD
      "image/png": "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\n",
      "text/plain": [
       "<Figure size 447.797x264.88 with 1 Axes>"
      ]
     },
     "execution_count": 20,
=======
      "image/png": "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\n",
      "text/plain": [
       "<Figure size 568.197x264.88 with 1 Axes>"
      ]
     },
     "execution_count": 26,
>>>>>>> ffbfa911a040cc6caf74733a0da476a1893981f6
     "metadata": {},
     "output_type": "execute_result"
    }
   ],
   "source": [
    "circuito.draw(\"mpl\")"
   ]
  },
  {
   "cell_type": "code",
<<<<<<< HEAD
   "execution_count": 21,
=======
   "execution_count": 27,
>>>>>>> ffbfa911a040cc6caf74733a0da476a1893981f6
   "metadata": {},
   "outputs": [
    {
     "data": {
      "text/plain": [
<<<<<<< HEAD
       "{'000': 24.35, '001': 24.35, '100': 25.2, '101': 26.1}"
      ]
     },
     "execution_count": 21,
=======
       "{'000': 12.75,\n",
       " '001': 12.15,\n",
       " '010': 13.45,\n",
       " '011': 11.25,\n",
       " '100': 12.4,\n",
       " '101': 12.2,\n",
       " '110': 12.45,\n",
       " '111': 13.35}"
      ]
     },
     "execution_count": 27,
>>>>>>> ffbfa911a040cc6caf74733a0da476a1893981f6
     "metadata": {},
     "output_type": "execute_result"
    }
   ],
   "source": [
    "final_state = measuring(circuito, backend=simulator)\n",
    "final_state"
   ]
  },
  {
   "cell_type": "code",
<<<<<<< HEAD
   "execution_count": 8,
=======
   "execution_count": 28,
>>>>>>> ffbfa911a040cc6caf74733a0da476a1893981f6
   "metadata": {},
   "outputs": [
    {
     "data": {
      "text/plain": [
       "{'000': 50.293,\n",
       " '001': 1.172,\n",
       " '010': 4.883,\n",
       " '011': 42.773,\n",
       " '100': 0.488,\n",
       " '111': 0.391}"
      ]
     },
<<<<<<< HEAD
     "execution_count": 8,
=======
     "execution_count": 28,
>>>>>>> ffbfa911a040cc6caf74733a0da476a1893981f6
     "metadata": {},
     "output_type": "execute_result"
    }
   ],
   "source": [
    "estado_real_1 = {\"000\": 50.293, \"001\": 1.172, \"010\": 4.883 ,\"011\": 42.773, \"100\": 0.488, \"111\": 0.391}\n",
    "estado_real_1"
   ]
  },
  {
   "cell_type": "code",
<<<<<<< HEAD
   "execution_count": 9,
=======
   "execution_count": 29,
>>>>>>> ffbfa911a040cc6caf74733a0da476a1893981f6
   "metadata": {},
   "outputs": [
    {
     "data": {
      "text/plain": [
<<<<<<< HEAD
       "{'000': 46.3, '001': 1.55, '010': 1.05, '011': 50.3, '100': 0.55, '111': 0.25}"
      ]
     },
     "execution_count": 9,
=======
       "(False, 0.33277369610179075)"
      ]
     },
     "execution_count": 29,
>>>>>>> ffbfa911a040cc6caf74733a0da476a1893981f6
     "metadata": {},
     "output_type": "execute_result"
    }
   ],
   "source": [
    "estado_real_2 = {\"000\": 46.3, \"001\": 1.55, \"010\": 1.05 ,\"011\": 50.3, \"100\": 0.55, \"111\": 0.25}\n",
    "estado_real_2"
   ]
  },
  {
   "cell_type": "code",
   "execution_count": 16,
   "metadata": {},
   "outputs": [
    {
     "data": {
      "text/plain": [
       "{'000': 45.293,\n",
       " '001': 1.172,\n",
       " '010': 4.883,\n",
       " '011': 47.773,\n",
       " '100': 0.488,\n",
       " '111': 0.391}"
      ]
     },
     "execution_count": 16,
     "metadata": {},
     "output_type": "execute_result"
    }
   ],
   "source": [
    "estado_real_3 = {\"000\": 45.293, \"001\": 1.172, \"010\": 4.883 ,\"011\": 47.773, \"100\": 0.488, \"111\": 0.391}\n",
    "estado_real_3"
   ]
  },
  {
   "cell_type": "code",
   "execution_count": null,
   "metadata": {},
   "outputs": [],
   "source": []
  },
  {
   "cell_type": "code",
   "execution_count": 19,
   "metadata": {},
   "outputs": [
    {
     "data": {
      "text/plain": [
       "(True, 0.006492901071057489)"
      ]
     },
     "execution_count": 19,
     "metadata": {},
     "output_type": "execute_result"
    }
   ],
   "source": [
    "similarity(final_state, estado_real_1)"
   ]
  },
  {
   "cell_type": "code",
   "execution_count": 20,
   "metadata": {},
   "outputs": [
    {
     "data": {
      "text/plain": [
       "(True, 0.0011121753402989487)"
      ]
     },
     "execution_count": 20,
     "metadata": {},
     "output_type": "execute_result"
    }
   ],
   "source": [
    "similarity(final_state, estado_real_2)"
   ]
  },
  {
   "cell_type": "code",
   "execution_count": 21,
   "metadata": {},
   "outputs": [
    {
     "data": {
      "text/plain": [
       "(True, 0.0031970665318595826)"
      ]
     },
     "execution_count": 21,
     "metadata": {},
     "output_type": "execute_result"
    }
   ],
   "source": [
    "similarity(final_state, estado_real_3)"
   ]
  },
  {
   "cell_type": "code",
   "execution_count": 12,
   "metadata": {},
   "outputs": [
    {
     "data": {
      "text/plain": [
       "{'000': 23.0,\n",
       " '001': 25.15,\n",
       " '010': 25.95,\n",
       " '011': 25.9,\n",
       " '100': 0.0,\n",
       " '101': 0.0,\n",
       " '110': 0.0,\n",
       " '111': 0.0}"
      ]
     },
     "execution_count": 12,
     "metadata": {},
     "output_type": "execute_result"
    }
   ],
   "source": [
    "final_state"
   ]
  },
  {
   "cell_type": "code",
   "execution_count": 22,
   "metadata": {},
   "outputs": [],
   "source": [
    "state_1 = {\"000\": 26.2, \"001\": 27.25, \"010\": 0.55, \"011\": 0.3, \n",
    "           \"100\": 22.45, \"101\": 22.9, \"110\": 0.25, \"111\": 0.1}"
   ]
  },
  {
   "cell_type": "code",
   "execution_count": 23,
   "metadata": {},
   "outputs": [
    {
     "data": {
      "text/plain": [
       "(True, 0.006029084840928456)"
      ]
     },
     "execution_count": 23,
     "metadata": {},
     "output_type": "execute_result"
    }
   ],
   "source": [
    "similarity(final_state, state_1)"
   ]
  },
  {
   "cell_type": "code",
   "execution_count": 24,
   "metadata": {},
   "outputs": [],
   "source": [
    "state_2 = {\"000\": 26.45, \"001\": 20.15, \"010\": 0.25, \"011\": 0.45, \n",
    "           \"100\": 29.25, \"101\": 22.85, \"110\": 0.25, \"111\": 0.35}"
   ]
  },
  {
   "cell_type": "code",
   "execution_count": 25,
   "metadata": {},
   "outputs": [
    {
     "data": {
      "text/plain": [
       "(True, 0.009914372064758092)"
      ]
     },
     "execution_count": 25,
     "metadata": {},
     "output_type": "execute_result"
    }
   ],
   "source": [
    "similarity(final_state, state_2)"
   ]
  },
  {
   "cell_type": "code",
   "execution_count": 23,
   "metadata": {},
   "outputs": [
    {
     "ename": "NameError",
     "evalue": "name 'QuantumCircuit' is not defined",
     "output_type": "error",
     "traceback": [
      "\u001b[0;31m---------------------------------------------------------------------------\u001b[0m",
      "\u001b[0;31mNameError\u001b[0m                                 Traceback (most recent call last)",
      "\u001b[0;32m<ipython-input-23-ead6b41860dc>\u001b[0m in \u001b[0;36m<module>\u001b[0;34m\u001b[0m\n\u001b[0;32m----> 1\u001b[0;31m \u001b[0mx\u001b[0m \u001b[0;34m=\u001b[0m \u001b[0mrandomQuantumState\u001b[0m\u001b[0;34m(\u001b[0m\u001b[0;34m)\u001b[0m\u001b[0;34m\u001b[0m\u001b[0;34m\u001b[0m\u001b[0m\n\u001b[0m",
      "\u001b[0;32m~/2021_QTacos/tools.py\u001b[0m in \u001b[0;36mrandomQuantumState\u001b[0;34m()\u001b[0m\n\u001b[1;32m     29\u001b[0m \u001b[0;34m\u001b[0m\u001b[0m\n\u001b[1;32m     30\u001b[0m \u001b[0;32mdef\u001b[0m \u001b[0mrandomQuantumState\u001b[0m\u001b[0;34m(\u001b[0m\u001b[0;34m)\u001b[0m\u001b[0;34m:\u001b[0m\u001b[0;34m\u001b[0m\u001b[0;34m\u001b[0m\u001b[0m\n\u001b[0;32m---> 31\u001b[0;31m     \u001b[0mqc\u001b[0m \u001b[0;34m=\u001b[0m \u001b[0mQuantumCircuit\u001b[0m\u001b[0;34m(\u001b[0m\u001b[0;36m3\u001b[0m\u001b[0;34m,\u001b[0m\u001b[0;36m3\u001b[0m\u001b[0;34m)\u001b[0m\u001b[0;34m\u001b[0m\u001b[0;34m\u001b[0m\u001b[0m\n\u001b[0m\u001b[1;32m     32\u001b[0m     \u001b[0;32mfor\u001b[0m \u001b[0mi\u001b[0m \u001b[0;32min\u001b[0m \u001b[0mrange\u001b[0m\u001b[0;34m(\u001b[0m\u001b[0;36m0\u001b[0m\u001b[0;34m,\u001b[0m\u001b[0mint\u001b[0m\u001b[0;34m(\u001b[0m\u001b[0mrandom\u001b[0m\u001b[0;34m.\u001b[0m\u001b[0mrandint\u001b[0m\u001b[0;34m(\u001b[0m\u001b[0;36m1\u001b[0m\u001b[0;34m,\u001b[0m\u001b[0;36m5\u001b[0m\u001b[0;34m)\u001b[0m\u001b[0;34m)\u001b[0m\u001b[0;34m)\u001b[0m\u001b[0;34m:\u001b[0m\u001b[0;34m\u001b[0m\u001b[0;34m\u001b[0m\u001b[0m\n\u001b[1;32m     33\u001b[0m         \u001b[0mg\u001b[0m \u001b[0;34m=\u001b[0m \u001b[0mrandom\u001b[0m\u001b[0;34m.\u001b[0m\u001b[0mchoice\u001b[0m\u001b[0;34m(\u001b[0m\u001b[0;34m(\u001b[0m\u001b[0;34m\"hadamard\"\u001b[0m\u001b[0;34m,\u001b[0m\u001b[0;34m\"x\"\u001b[0m\u001b[0;34m,\u001b[0m\u001b[0;34m\"y\"\u001b[0m\u001b[0;34m,\u001b[0m\u001b[0;34m\"z\"\u001b[0m\u001b[0;34m,\u001b[0m\u001b[0;34m\"cnot\"\u001b[0m\u001b[0;34m)\u001b[0m\u001b[0;34m)\u001b[0m\u001b[0;34m\u001b[0m\u001b[0;34m\u001b[0m\u001b[0m\n",
      "\u001b[0;31mNameError\u001b[0m: name 'QuantumCircuit' is not defined"
     ]
    }
   ],
   "source": [
    "x = randomQuantumState()"
   ]
  }
 ],
 "metadata": {
  "kernelspec": {
   "display_name": "Python 3",
   "language": "python",
   "name": "python3"
  },
  "language_info": {
   "codemirror_mode": {
    "name": "ipython",
    "version": 3
   },
   "file_extension": ".py",
   "mimetype": "text/x-python",
   "name": "python",
   "nbconvert_exporter": "python",
   "pygments_lexer": "ipython3",
   "version": "3.7.6"
  }
 },
 "nbformat": 4,
 "nbformat_minor": 4
}
